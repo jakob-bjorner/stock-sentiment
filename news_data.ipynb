{
 "cells": [
  {
   "cell_type": "code",
   "execution_count": 1,
   "metadata": {},
   "outputs": [],
   "source": [
    "import pandas as pd\n",
    "import numpy as np\n",
    "import yfinance as yf\n",
    "import json\n",
    "import boto3\n",
    "from boto3.dynamodb.conditions import Key\n",
    "# import torch"
   ]
  },
  {
   "cell_type": "code",
   "execution_count": 1,
   "metadata": {},
   "outputs": [
    {
     "name": "stdout",
     "output_type": "stream",
     "text": [
      "Hello world\n"
     ]
    }
   ],
   "source": [
    "# decision to save the data if we need to: use pickle, there are others, but this is fine for what we need, and much faster than csv.and\n",
    "\"\"\"\n",
    "possible directions:\n",
    "a- having the user decide which stock to pick? (fine)\n",
    "b- having a simple random sample of all the stocks listed publicly. (good IMO)\n",
    "c- trying to pick which stocks to have by recognizing named entities as stocks (very difficult, and don't see much benefit)\n",
    "\"\"\"\n",
    "\n",
    "import json\n",
    "import boto3\n",
    "from boto3.dynamodb.conditions import Key\n",
    "\n",
    "\n",
    "def lambda_handler(event, context):\n",
    "    # TODO implement\n",
    "    client = boto3.resource(\"dynamodb\")\n",
    "    table = client.Table(\"stock-sentiment\")\n",
    "    response = table.get_item(\n",
    "        Key={\n",
    "            'document-id': 'document-two-test',\n",
    "            \"date\": 1643590729,\n",
    "        }\n",
    "    )\n",
    "    print(response[\"Item\"])\n",
    "\n",
    "    print()\n",
    "\n",
    "    response = table.query(\n",
    "        KeyConditionExpression = Key(\"document-id\").eq(\"document-one\")\n",
    "    )\n",
    "    items = response[\"Items\"]\n",
    "    print(items)\n",
    "    # return {\n",
    "    #     'statusCode': 200,\n",
    "    #     'body': json.dumps('Hello from Lambda!')\n",
    "    # }\n",
    "\n",
    "\n"
   ]
  },
  {
   "cell_type": "code",
   "execution_count": null,
   "metadata": {},
   "outputs": [],
   "source": []
  }
 ],
 "metadata": {
  "interpreter": {
   "hash": "66a89f20f86948ea31dbde9448ed8c5522a89f1cd01d8df5810a6728c01dbb57"
  },
  "kernelspec": {
   "display_name": "Python 3.9.5 64-bit ('stock_hasan': venv)",
   "language": "python",
   "name": "python3"
  },
  "language_info": {
   "codemirror_mode": {
    "name": "ipython",
    "version": 3
   },
   "file_extension": ".py",
   "mimetype": "text/x-python",
   "name": "python",
   "nbconvert_exporter": "python",
   "pygments_lexer": "ipython3",
   "version": "3.9.5"
  },
  "orig_nbformat": 4
 },
 "nbformat": 4,
 "nbformat_minor": 2
}
