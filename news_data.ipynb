{
 "cells": [
  {
   "cell_type": "code",
   "execution_count": 30,
   "metadata": {},
   "outputs": [],
   "source": [
    "import pandas as pd\n",
    "import numpy as np\n",
    "import yfinance as yf\n",
    "import os\n",
    "from dotenv import load_dotenv\n",
    "import time"
   ]
  },
  {
   "cell_type": "code",
   "execution_count": 12,
   "metadata": {},
   "outputs": [],
   "source": [
    "load_dotenv()\n",
    "CREDENTIAL_PATH = os.getenv(\"CREDENTIAL_PATH\")\n",
    "databaseURL = \"https://stock-sentiment-f8e48-default-rtdb.firebaseio.com/\""
   ]
  },
  {
   "cell_type": "code",
   "execution_count": 33,
   "metadata": {},
   "outputs": [
    {
     "ename": "ValueError",
     "evalue": "The default Firebase app already exists. This means you called initialize_app() more than once without providing an app name as the second argument. In most cases you only need to call initialize_app() once. But if you do want to initialize multiple apps, pass a second argument to initialize_app() to give each app a unique name.",
     "output_type": "error",
     "traceback": [
      "\u001b[1;31m---------------------------------------------------------------------------\u001b[0m",
      "\u001b[1;31mValueError\u001b[0m                                Traceback (most recent call last)",
      "Input \u001b[1;32mIn [33]\u001b[0m, in \u001b[0;36m<module>\u001b[1;34m\u001b[0m\n\u001b[0;32m      1\u001b[0m \u001b[38;5;28;01mimport\u001b[39;00m \u001b[38;5;21;01mfirebase_admin\u001b[39;00m\n\u001b[0;32m      3\u001b[0m cred_obj \u001b[38;5;241m=\u001b[39m firebase_admin\u001b[38;5;241m.\u001b[39mcredentials\u001b[38;5;241m.\u001b[39mCertificate(CREDENTIAL_PATH)\n\u001b[1;32m----> 4\u001b[0m default_app \u001b[38;5;241m=\u001b[39m \u001b[43mfirebase_admin\u001b[49m\u001b[38;5;241;43m.\u001b[39;49m\u001b[43minitialize_app\u001b[49m\u001b[43m(\u001b[49m\u001b[43mcred_obj\u001b[49m\u001b[43m,\u001b[49m\u001b[43m \u001b[49m\u001b[43m{\u001b[49m\n\u001b[0;32m      5\u001b[0m \u001b[43m\t\u001b[49m\u001b[38;5;124;43m'\u001b[39;49m\u001b[38;5;124;43mdatabaseURL\u001b[39;49m\u001b[38;5;124;43m'\u001b[39;49m\u001b[43m:\u001b[49m\u001b[43mdatabaseURL\u001b[49m\n\u001b[0;32m      6\u001b[0m \u001b[43m\t\u001b[49m\u001b[43m}\u001b[49m\u001b[43m)\u001b[49m\n",
      "File \u001b[1;32mc:\\Users\\jakob\\OneDrive - Georgia Institute of Technology\\Georgia tech\\2022 Spring\\stock_hasan\\stock-sentiment\\stock_hasan\\lib\\site-packages\\firebase_admin\\__init__.py:71\u001b[0m, in \u001b[0;36minitialize_app\u001b[1;34m(credential, options, name)\u001b[0m\n\u001b[0;32m     68\u001b[0m         \u001b[38;5;28;01mreturn\u001b[39;00m app\n\u001b[0;32m     70\u001b[0m \u001b[38;5;28;01mif\u001b[39;00m name \u001b[38;5;241m==\u001b[39m _DEFAULT_APP_NAME:\n\u001b[1;32m---> 71\u001b[0m     \u001b[38;5;28;01mraise\u001b[39;00m \u001b[38;5;167;01mValueError\u001b[39;00m((\n\u001b[0;32m     72\u001b[0m         \u001b[38;5;124m'\u001b[39m\u001b[38;5;124mThe default Firebase app already exists. This means you called \u001b[39m\u001b[38;5;124m'\u001b[39m\n\u001b[0;32m     73\u001b[0m         \u001b[38;5;124m'\u001b[39m\u001b[38;5;124minitialize_app() more than once without providing an app name as \u001b[39m\u001b[38;5;124m'\u001b[39m\n\u001b[0;32m     74\u001b[0m         \u001b[38;5;124m'\u001b[39m\u001b[38;5;124mthe second argument. In most cases you only need to call \u001b[39m\u001b[38;5;124m'\u001b[39m\n\u001b[0;32m     75\u001b[0m         \u001b[38;5;124m'\u001b[39m\u001b[38;5;124minitialize_app() once. But if you do want to initialize multiple \u001b[39m\u001b[38;5;124m'\u001b[39m\n\u001b[0;32m     76\u001b[0m         \u001b[38;5;124m'\u001b[39m\u001b[38;5;124mapps, pass a second argument to initialize_app() to give each app \u001b[39m\u001b[38;5;124m'\u001b[39m\n\u001b[0;32m     77\u001b[0m         \u001b[38;5;124m'\u001b[39m\u001b[38;5;124ma unique name.\u001b[39m\u001b[38;5;124m'\u001b[39m))\n\u001b[0;32m     79\u001b[0m \u001b[38;5;28;01mraise\u001b[39;00m \u001b[38;5;167;01mValueError\u001b[39;00m((\n\u001b[0;32m     80\u001b[0m     \u001b[38;5;124m'\u001b[39m\u001b[38;5;124mFirebase app named \u001b[39m\u001b[38;5;124m\"\u001b[39m\u001b[38;5;132;01m{0}\u001b[39;00m\u001b[38;5;124m\"\u001b[39m\u001b[38;5;124m already exists. This means you called \u001b[39m\u001b[38;5;124m'\u001b[39m\n\u001b[0;32m     81\u001b[0m     \u001b[38;5;124m'\u001b[39m\u001b[38;5;124minitialize_app() more than once with the same app name as the \u001b[39m\u001b[38;5;124m'\u001b[39m\n\u001b[0;32m     82\u001b[0m     \u001b[38;5;124m'\u001b[39m\u001b[38;5;124msecond argument. Make sure you provide a unique name every time \u001b[39m\u001b[38;5;124m'\u001b[39m\n\u001b[0;32m     83\u001b[0m     \u001b[38;5;124m'\u001b[39m\u001b[38;5;124myou call initialize_app().\u001b[39m\u001b[38;5;124m'\u001b[39m)\u001b[38;5;241m.\u001b[39mformat(name))\n",
      "\u001b[1;31mValueError\u001b[0m: The default Firebase app already exists. This means you called initialize_app() more than once without providing an app name as the second argument. In most cases you only need to call initialize_app() once. But if you do want to initialize multiple apps, pass a second argument to initialize_app() to give each app a unique name."
     ]
    }
   ],
   "source": [
    "import firebase_admin\n",
    "\n",
    "cred_obj = firebase_admin.credentials.Certificate(CREDENTIAL_PATH)\n",
    "default_app = firebase_admin.initialize_app(cred_obj, {\n",
    "\t'databaseURL':databaseURL\n",
    "\t})"
   ]
  },
  {
   "cell_type": "code",
   "execution_count": 45,
   "metadata": {},
   "outputs": [],
   "source": [
    "from firebase_admin import db\n",
    "# code to initialize db Do not run unless you want to reset the database.\n",
    "# ref = db.reference(\"/\")\n",
    "# content = {\"documents\":\n",
    "# {\n",
    "#     \"reddit-data\": -1,\n",
    "#     \"twitter-data\": -1,\n",
    "#     \"news-article-data\": -1,\n",
    "# }\n",
    "# }\n",
    "# ref.set(content)"
   ]
  },
  {
   "cell_type": "code",
   "execution_count": 41,
   "metadata": {},
   "outputs": [],
   "source": [
    "new_content = {\n",
    "    \"document_id\":1, \n",
    "    \"document_name\": \"Something about stocks\", \n",
    "    \"document_contents\": \"more informaiton than the title alone will provide.\",\n",
    "    \"time\": time.time_ns()\n",
    "}\n",
    "ref = db.reference(\"/documents\")\n",
    "ref.push().set(new_content)"
   ]
  },
  {
   "cell_type": "code",
   "execution_count": 44,
   "metadata": {},
   "outputs": [
    {
     "name": "stdout",
     "output_type": "stream",
     "text": [
      "{'documents': {'news-article-data': -1, 'reddit-data': -1, 'twitter-data': -1}}\n"
     ]
    }
   ],
   "source": [
    "current_state = ref.get()\n",
    "print(current_state)"
   ]
  },
  {
   "cell_type": "code",
   "execution_count": 1,
   "metadata": {},
   "outputs": [
    {
     "data": {
      "text/plain": [
       "\"\\npossible directions:\\na- having the user decide which stock to pick? (fine)\\nb- having a simple random sample of all the stocks listed publicly. (good IMO)\\nc- trying to pick which stocks to have by recognizing named entities as stocks (very difficult, and don't see much benefit)\\n\""
      ]
     },
     "execution_count": 1,
     "metadata": {},
     "output_type": "execute_result"
    }
   ],
   "source": [
    "# decision to save the data if we need to: use pickle, there are others, but this is fine for what we need, and much faster than csv.and\n",
    "\"\"\"\n",
    "possible directions:\n",
    "a- having the user decide which stock to pick? (fine)\n",
    "b- having a simple random sample of all the stocks listed publicly. (good IMO)\n",
    "c- trying to pick which stocks to have by recognizing named entities as stocks (very difficult, and don't see much benefit)\n",
    "\"\"\"\n",
    "\n",
    "# import json\n",
    "# import boto3\n",
    "# from boto3.dynamodb.conditions import Key\n",
    "\n",
    "\n",
    "# def lambda_handler(event, context):\n",
    "#     # TODO implement\n",
    "#     client = boto3.resource(\"dynamodb\")\n",
    "#     table = client.Table(\"stock-sentiment\")\n",
    "#     response = table.get_item(\n",
    "#         Key={\n",
    "#             'document-id': 'document-two-test',\n",
    "#             \"date\": 1643590729,\n",
    "#         }\n",
    "#     )\n",
    "#     print(response[\"Item\"])\n",
    "\n",
    "#     print()\n",
    "\n",
    "#     response = table.query(\n",
    "#         KeyConditionExpression = Key(\"document-id\").eq(\"document-one\")\n",
    "#     )\n",
    "#     items = response[\"Items\"]\n",
    "#     print(items)\n",
    "#     # return {\n",
    "#     #     'statusCode': 200,\n",
    "#     #     'body': json.dumps('Hello from Lambda!')\n",
    "#     # }\n",
    "\n",
    "\n"
   ]
  },
  {
   "cell_type": "code",
   "execution_count": null,
   "metadata": {},
   "outputs": [],
   "source": []
  }
 ],
 "metadata": {
  "interpreter": {
   "hash": "66a89f20f86948ea31dbde9448ed8c5522a89f1cd01d8df5810a6728c01dbb57"
  },
  "kernelspec": {
   "display_name": "Python 3.9.5 64-bit ('stock_hasan': venv)",
   "language": "python",
   "name": "python3"
  },
  "language_info": {
   "codemirror_mode": {
    "name": "ipython",
    "version": 3
   },
   "file_extension": ".py",
   "mimetype": "text/x-python",
   "name": "python",
   "nbconvert_exporter": "python",
   "pygments_lexer": "ipython3",
   "version": "3.9.5"
  },
  "orig_nbformat": 4
 },
 "nbformat": 4,
 "nbformat_minor": 2
}
